{
 "cells": [
  {
   "cell_type": "code",
   "execution_count": 9,
   "metadata": {},
   "outputs": [
    {
     "name": "stdout",
     "output_type": "stream",
     "text": [
      "Requirement already satisfied: langchain_community in c:\\users\\dell\\anaconda3\\lib\\site-packages (0.3.12)\n",
      "Requirement already satisfied: langchain_groq in c:\\users\\dell\\anaconda3\\lib\\site-packages (0.2.1)\n",
      "Requirement already satisfied: youtube_transcript_api in c:\\users\\dell\\anaconda3\\lib\\site-packages (0.6.3)\n",
      "Requirement already satisfied: faiss-cpu in c:\\users\\dell\\anaconda3\\lib\\site-packages (1.9.0.post1)\n",
      "Requirement already satisfied: PyYAML>=5.3 in c:\\users\\dell\\anaconda3\\lib\\site-packages (from langchain_community) (6.0.1)\n",
      "Requirement already satisfied: SQLAlchemy<3,>=1.4 in c:\\users\\dell\\anaconda3\\lib\\site-packages (from langchain_community) (2.0.34)\n",
      "Requirement already satisfied: aiohttp<4.0.0,>=3.8.3 in c:\\users\\dell\\anaconda3\\lib\\site-packages (from langchain_community) (3.10.5)\n",
      "Requirement already satisfied: dataclasses-json<0.7,>=0.5.7 in c:\\users\\dell\\anaconda3\\lib\\site-packages (from langchain_community) (0.6.7)\n",
      "Requirement already satisfied: httpx-sse<0.5.0,>=0.4.0 in c:\\users\\dell\\anaconda3\\lib\\site-packages (from langchain_community) (0.4.0)\n",
      "Requirement already satisfied: langchain<0.4.0,>=0.3.12 in c:\\users\\dell\\anaconda3\\lib\\site-packages (from langchain_community) (0.3.12)\n",
      "Requirement already satisfied: langchain-core<0.4.0,>=0.3.25 in c:\\users\\dell\\anaconda3\\lib\\site-packages (from langchain_community) (0.3.40)\n",
      "Requirement already satisfied: langsmith<0.3,>=0.1.125 in c:\\users\\dell\\anaconda3\\lib\\site-packages (from langchain_community) (0.2.3)\n",
      "Requirement already satisfied: numpy<3,>=1.26.2 in c:\\users\\dell\\anaconda3\\lib\\site-packages (from langchain_community) (1.26.4)\n",
      "Requirement already satisfied: pydantic-settings<3.0.0,>=2.4.0 in c:\\users\\dell\\anaconda3\\lib\\site-packages (from langchain_community) (2.7.0)\n",
      "Requirement already satisfied: requests<3,>=2 in c:\\users\\dell\\anaconda3\\lib\\site-packages (from langchain_community) (2.32.3)\n",
      "Requirement already satisfied: tenacity!=8.4.0,<10,>=8.1.0 in c:\\users\\dell\\anaconda3\\lib\\site-packages (from langchain_community) (8.2.3)\n",
      "Requirement already satisfied: groq<1,>=0.4.1 in c:\\users\\dell\\anaconda3\\lib\\site-packages (from langchain_groq) (0.13.1)\n",
      "Requirement already satisfied: defusedxml<0.8.0,>=0.7.1 in c:\\users\\dell\\anaconda3\\lib\\site-packages (from youtube_transcript_api) (0.7.1)\n",
      "Requirement already satisfied: packaging in c:\\users\\dell\\appdata\\roaming\\python\\python312\\site-packages (from faiss-cpu) (24.1)\n",
      "Requirement already satisfied: aiohappyeyeballs>=2.3.0 in c:\\users\\dell\\anaconda3\\lib\\site-packages (from aiohttp<4.0.0,>=3.8.3->langchain_community) (2.4.0)\n",
      "Requirement already satisfied: aiosignal>=1.1.2 in c:\\users\\dell\\anaconda3\\lib\\site-packages (from aiohttp<4.0.0,>=3.8.3->langchain_community) (1.2.0)\n",
      "Requirement already satisfied: attrs>=17.3.0 in c:\\users\\dell\\anaconda3\\lib\\site-packages (from aiohttp<4.0.0,>=3.8.3->langchain_community) (23.1.0)\n",
      "Requirement already satisfied: frozenlist>=1.1.1 in c:\\users\\dell\\anaconda3\\lib\\site-packages (from aiohttp<4.0.0,>=3.8.3->langchain_community) (1.4.0)\n",
      "Requirement already satisfied: multidict<7.0,>=4.5 in c:\\users\\dell\\anaconda3\\lib\\site-packages (from aiohttp<4.0.0,>=3.8.3->langchain_community) (6.0.4)\n",
      "Requirement already satisfied: yarl<2.0,>=1.0 in c:\\users\\dell\\anaconda3\\lib\\site-packages (from aiohttp<4.0.0,>=3.8.3->langchain_community) (1.11.0)\n",
      "Requirement already satisfied: marshmallow<4.0.0,>=3.18.0 in c:\\users\\dell\\anaconda3\\lib\\site-packages (from dataclasses-json<0.7,>=0.5.7->langchain_community) (3.23.1)\n",
      "Requirement already satisfied: typing-inspect<1,>=0.4.0 in c:\\users\\dell\\anaconda3\\lib\\site-packages (from dataclasses-json<0.7,>=0.5.7->langchain_community) (0.9.0)\n",
      "Requirement already satisfied: anyio<5,>=3.5.0 in c:\\users\\dell\\anaconda3\\lib\\site-packages (from groq<1,>=0.4.1->langchain_groq) (4.2.0)\n",
      "Requirement already satisfied: distro<2,>=1.7.0 in c:\\users\\dell\\anaconda3\\lib\\site-packages (from groq<1,>=0.4.1->langchain_groq) (1.9.0)\n",
      "Requirement already satisfied: httpx<1,>=0.23.0 in c:\\users\\dell\\anaconda3\\lib\\site-packages (from groq<1,>=0.4.1->langchain_groq) (0.27.0)\n",
      "Requirement already satisfied: pydantic<3,>=1.9.0 in c:\\users\\dell\\anaconda3\\lib\\site-packages (from groq<1,>=0.4.1->langchain_groq) (2.10.6)\n",
      "Requirement already satisfied: sniffio in c:\\users\\dell\\anaconda3\\lib\\site-packages (from groq<1,>=0.4.1->langchain_groq) (1.3.0)\n",
      "Requirement already satisfied: typing-extensions<5,>=4.10 in c:\\users\\dell\\anaconda3\\lib\\site-packages (from groq<1,>=0.4.1->langchain_groq) (4.12.2)\n",
      "Requirement already satisfied: langchain-text-splitters<0.4.0,>=0.3.3 in c:\\users\\dell\\anaconda3\\lib\\site-packages (from langchain<0.4.0,>=0.3.12->langchain_community) (0.3.3)\n",
      "Requirement already satisfied: jsonpatch<2.0,>=1.33 in c:\\users\\dell\\anaconda3\\lib\\site-packages (from langchain-core<0.4.0,>=0.3.25->langchain_community) (1.33)\n",
      "Requirement already satisfied: orjson<4.0.0,>=3.9.14 in c:\\users\\dell\\anaconda3\\lib\\site-packages (from langsmith<0.3,>=0.1.125->langchain_community) (3.10.12)\n",
      "Requirement already satisfied: requests-toolbelt<2.0.0,>=1.0.0 in c:\\users\\dell\\anaconda3\\lib\\site-packages (from langsmith<0.3,>=0.1.125->langchain_community) (1.0.0)\n",
      "Requirement already satisfied: python-dotenv>=0.21.0 in c:\\users\\dell\\anaconda3\\lib\\site-packages (from pydantic-settings<3.0.0,>=2.4.0->langchain_community) (0.21.0)\n",
      "Requirement already satisfied: charset-normalizer<4,>=2 in c:\\users\\dell\\anaconda3\\lib\\site-packages (from requests<3,>=2->langchain_community) (3.3.2)\n",
      "Requirement already satisfied: idna<4,>=2.5 in c:\\users\\dell\\anaconda3\\lib\\site-packages (from requests<3,>=2->langchain_community) (3.7)\n",
      "Requirement already satisfied: urllib3<3,>=1.21.1 in c:\\users\\dell\\anaconda3\\lib\\site-packages (from requests<3,>=2->langchain_community) (2.2.3)\n",
      "Requirement already satisfied: certifi>=2017.4.17 in c:\\users\\dell\\anaconda3\\lib\\site-packages (from requests<3,>=2->langchain_community) (2024.8.30)\n",
      "Requirement already satisfied: greenlet!=0.4.17 in c:\\users\\dell\\anaconda3\\lib\\site-packages (from SQLAlchemy<3,>=1.4->langchain_community) (3.0.1)\n",
      "Requirement already satisfied: httpcore==1.* in c:\\users\\dell\\anaconda3\\lib\\site-packages (from httpx<1,>=0.23.0->groq<1,>=0.4.1->langchain_groq) (1.0.2)\n",
      "Requirement already satisfied: h11<0.15,>=0.13 in c:\\users\\dell\\anaconda3\\lib\\site-packages (from httpcore==1.*->httpx<1,>=0.23.0->groq<1,>=0.4.1->langchain_groq) (0.14.0)\n",
      "Requirement already satisfied: jsonpointer>=1.9 in c:\\users\\dell\\anaconda3\\lib\\site-packages (from jsonpatch<2.0,>=1.33->langchain-core<0.4.0,>=0.3.25->langchain_community) (2.1)\n",
      "Requirement already satisfied: annotated-types>=0.6.0 in c:\\users\\dell\\anaconda3\\lib\\site-packages (from pydantic<3,>=1.9.0->groq<1,>=0.4.1->langchain_groq) (0.6.0)\n",
      "Requirement already satisfied: pydantic-core==2.27.2 in c:\\users\\dell\\anaconda3\\lib\\site-packages (from pydantic<3,>=1.9.0->groq<1,>=0.4.1->langchain_groq) (2.27.2)\n",
      "Requirement already satisfied: mypy-extensions>=0.3.0 in c:\\users\\dell\\anaconda3\\lib\\site-packages (from typing-inspect<1,>=0.4.0->dataclasses-json<0.7,>=0.5.7->langchain_community) (1.0.0)\n"
     ]
    }
   ],
   "source": [
    "!pip install langchain_community langchain_groq youtube_transcript_api faiss-cpu"
   ]
  },
  {
   "cell_type": "code",
   "execution_count": 10,
   "metadata": {},
   "outputs": [],
   "source": [
    "from langchain.document_loaders import YoutubeLoader\n",
    "from langchain.text_splitter import RecursiveCharacterTextSplitter\n",
    "from langchain.embeddings.huggingface import HuggingFaceEmbeddings\n",
    "from langchain_groq import ChatGroq\n",
    "from langchain.vectorstores import FAISS\n",
    "from langchain.chains import LLMChain\n",
    "from langchain.prompts.chat import (\n",
    "    ChatPromptTemplate,\n",
    "    SystemMessagePromptTemplate,\n",
    "    HumanMessagePromptTemplate\n",
    ")\n",
    "import textwrap"
   ]
  },
  {
   "cell_type": "code",
   "execution_count": 11,
   "metadata": {},
   "outputs": [
    {
     "name": "stderr",
     "output_type": "stream",
     "text": [
      "C:\\Users\\DELL\\AppData\\Local\\Temp\\ipykernel_7504\\290647011.py:1: LangChainDeprecationWarning: Default values for HuggingFaceEmbeddings.model_name were deprecated in LangChain 0.2.16 and will be removed in 0.4.0. Explicitly pass a model_name to the HuggingFaceEmbeddings constructor instead.\n",
      "  embeddings = HuggingFaceEmbeddings()\n"
     ]
    }
   ],
   "source": [
    "embeddings = HuggingFaceEmbeddings()\n",
    "     "
   ]
  },
  {
   "cell_type": "code",
   "execution_count": 12,
   "metadata": {},
   "outputs": [],
   "source": [
    "def create_db_from_youtube_video_url(video_url):\n",
    "  loader = YoutubeLoader.from_youtube_url(video_url)\n",
    "  transcript = loader.load()\n",
    "\n",
    "  text_splitter = RecursiveCharacterTextSplitter(chunk_size = 2000, chunk_overlap = 100)\n",
    "  docs = text_splitter.split_documents(transcript)\n",
    "  db = FAISS.from_documents(docs, embeddings)\n",
    "  return db\n",
    "     "
   ]
  },
  {
   "cell_type": "code",
   "execution_count": null,
   "metadata": {},
   "outputs": [],
   "source": [
    "def get_response_from_query(db, query, k = 4):\n",
    "  docs = db.similarity_search(query, k = k)\n",
    "  docs_page_content = \" \".join([d.page_content for d in docs])\n",
    "\n",
    "  chat = ChatGroq(api_key = \"your groq api\", model = \"llama-3.3-70b-versatile\", temperature=0)\n",
    "\n",
    "  template = \"\"\"You are a helpful assistant that that can answer questions about youtube videos\n",
    "        based on the video's transcript: {docs}\n",
    "\n",
    "        Only use the factual information from the transcript to answer the question.\n",
    "\n",
    "        If you feel like you don't have enough information to answer the question, say \"I don't know\".\"\"\"\n",
    "\n",
    "  system_message_prompt = SystemMessagePromptTemplate.from_template(template)\n",
    "  human_template = \"Answer the following question: {question}\"\n",
    "\n",
    "  human_message_prompt = HumanMessagePromptTemplate.from_template(human_template)\n",
    "\n",
    "  chat_prompt = ChatPromptTemplate.from_messages(\n",
    "      [system_message_prompt, human_message_prompt]\n",
    "  )\n",
    "\n",
    "  chain = LLMChain(llm = chat, prompt = chat_prompt)\n",
    "\n",
    "  response = chain.run(question = query, docs = docs_page_content)\n",
    "\n",
    "  response = response.replace(\"\\n\", \"\")\n",
    "\n",
    "  return response, docs"
   ]
  },
  {
   "cell_type": "code",
   "execution_count": 14,
   "metadata": {},
   "outputs": [
    {
     "name": "stdout",
     "output_type": "stream",
     "text": [
      "This video appears to be about a cricket match, specifically a 2014\n",
      "IPL (Indian Premier League) elimination match, with commentary on the\n",
      "game as it unfolds, including descriptions of shots, wickets, and\n",
      "player performances.\n"
     ]
    }
   ],
   "source": [
    "video_url = \"https://youtu.be/ZY2JbLtbDWo?si=TIvzY-X94FRuFZ44\"\n",
    "db = create_db_from_youtube_video_url(video_url)\n",
    "query = \"what is this video about?\"\n",
    "response, docs = get_response_from_query(db, query)\n",
    "print(textwrap.fill(response, width = 70))"
   ]
  },
  {
   "cell_type": "code",
   "execution_count": 15,
   "metadata": {},
   "outputs": [
    {
     "name": "stdout",
     "output_type": "stream",
     "text": [
      "[Document(metadata={'source': 'ZY2JbLtbDWo'}, page_content=\"[Music] that's what they're playing for they hope that they can get into the final and can contest that and be champions for 2014 finally EG back Third Man back it's time who will stay who will go good swing first up it's humid here in Mumbai particularly muggy tonight shot that's a one leg side now offside for four short four [Applause] runs fraction short it doesn't need much for Michael hussy to find that fence oh he waited for it who that's a terrific yes back maximum slower Ball but it still got this away and has gone so fast and it beats the man out there at Deep Cover [Music] Point that's big it is very big and I think we probably would have done the same thing on this round Bal him jja gets his man hussy swinging across the line and the sound of Timber so the chenai Super Kings finally get the Breakthrough Anderson goes back another [Applause] six he goes piig again Anderson not this time held out but he's done some damage and that is an excellent catch iswar Pand is a tall man and he's judged it beautifully and this is a big Wicket he was looking extremely dangerous now time for Lindo Simmons and he doesn't make the same mistake he hits it all the way inventive very inventive in the Outfield quick well thought of because he had played a couple of cut shots that had gone to the field where at point he raises the bat also because he's got a [Applause] 5050 oh yes High to the night sky and all the way for lindel Simmons you wanted a big one you got one Ry Roger hasn't got this one hasn't got it at all and it is straight to Sirus Ryder judia picks up [Applause] another high in the air chance Jia is it no it's McCullum McCullum running around good catch too mightily High it is a chance not easy but taken very very well done M sha takes the catch and ashisha exacts a little bit of Revenge ditar is the new batsman and he might be gone first ball he is BU takes a very comfortable catch no heroics tonight for Adar oh he's got him he's got him it wasn't a great\"), Document(metadata={'source': 'ZY2JbLtbDWo'}, page_content=\"a very comfortable catch no heroics tonight for Adar oh he's got him he's got him it wasn't a great delivery don't think that was the plan that is for sure of it David H's taken a great catch and again and he picks up another just to add to that list it's been terrific towards the end here from the Chennai Super Kings three foot now M sh he's waited for it he's got it Well Done harage John sink you're little beauty you thought exactly like the bowler did and you got it right to finish the Innings off with a six and the important thing about this shot was he was looking at hit straight a couple of wickets they were looking to hit to midwicket but har thing shot selection was very good [Music] take that comprehensively beat in first delivery and he's decided he will not allow the ball to settle down giving the charge there was an adjustment in the length from Cory Anderson on the shorter side he was in a terrific position there very quickly glei to put it away that could be very close very very close did he get some bat did he get some bat oh goodness that's painful oh that's why he reacts like that that's a dead duck he was [Applause] plump it's gone in the air very very high is there going to be a collision U haran Singh was running back amti Ru was running in front it actually amti ru's catch he should have called for it both fielders looking at the ball another chance not [Applause] missing catch it is the call nobody will catch that six [Applause] runs well that's a bit of a bottom hand SLO Rond DNE Smith his timing's not really been there tonight but that's a bit of desperation in [Applause] that well that's Health yeah and Smith fancied that one it was a bit shorter and wider this [Applause] time it's gone big there's a man underneath it he finds him it's Kum and po lies in weight like a hunter for its prey and that's the end of a fairly strange Innings from Smith but he's got to [Applause] go it's gone Airborne there's a man and they're gone and this is a\"), Document(metadata={'source': 'ZY2JbLtbDWo'}, page_content=\"Smith but he's got to [Applause] go it's gone Airborne there's a man and they're gone and this is a terrific over from aradan Singh down the pitch oh that's a big hit oh that is so BR [Applause] mallum down the ground this should be handled hasn't hit it properly and that's gone over the Rope it's who did his best and we've seen some terrific catches being taken at that position by many of fielders this time he was second best to the task a that'll do that'll do lost the plot there Brendan McCullum AER had the courage the courage to fight at a g very very good bowling goes big lovely Drive what a shot from Ryan now that is absolutely brilliant inside out drive for a six over [Applause] covers oh that's the big shot clears the ground [Applause] easily oh very good shot he's picked the length up second six for hasi the 50 partnership comes up this time goes down another six like that Rina goes this time this is a Big E this [Applause] over and he'll get one pick up another half century as well of just 30 deliveries brilliant from Sur rer [Applause] tonight that'll do it that will do it superb piece of timing from s Rana to finish the game off picks up a boundary through midwicket and the chenai Super Kings move forward in this elimination match well he's had an illustrous career with CSK and it's only just that he has applied the CI gr wonderful strike from rhina and excellent Innings 54 from just 33 balls and well the better team has one so this is where we're at now Kolkata Night Riders have gone straight through to the Pepsi IPL final for 2014 and they await their opponent will it be the Kings 11 Punjab or will it be the Chennai Super Kings we'll find out in a couple of [Music] nights e e e e e\")]\n"
     ]
    }
   ],
   "source": [
    "print(docs)"
   ]
  }
 ],
 "metadata": {
  "kernelspec": {
   "display_name": "base",
   "language": "python",
   "name": "python3"
  },
  "language_info": {
   "codemirror_mode": {
    "name": "ipython",
    "version": 3
   },
   "file_extension": ".py",
   "mimetype": "text/x-python",
   "name": "python",
   "nbconvert_exporter": "python",
   "pygments_lexer": "ipython3",
   "version": "3.12.7"
  }
 },
 "nbformat": 4,
 "nbformat_minor": 2
}
